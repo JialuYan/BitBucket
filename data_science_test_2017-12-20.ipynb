{
 "cells": [
  {
   "cell_type": "code",
   "execution_count": 1,
   "metadata": {},
   "outputs": [
    {
     "data": {
      "text/html": [
       "\n",
       "    <div class=\"bk-root\">\n",
       "        <a href=\"https://bokeh.pydata.org\" target=\"_blank\" class=\"bk-logo bk-logo-small bk-logo-notebook\"></a>\n",
       "        <span id=\"80a797e5-bd0f-4dda-9f21-5deab85dedc6\">Loading BokehJS ...</span>\n",
       "    </div>"
      ]
     },
     "metadata": {},
     "output_type": "display_data"
    },
    {
     "data": {
      "application/javascript": [
       "\n",
       "(function(root) {\n",
       "  function now() {\n",
       "    return new Date();\n",
       "  }\n",
       "\n",
       "  var force = true;\n",
       "\n",
       "  if (typeof (root._bokeh_onload_callbacks) === \"undefined\" || force === true) {\n",
       "    root._bokeh_onload_callbacks = [];\n",
       "    root._bokeh_is_loading = undefined;\n",
       "  }\n",
       "\n",
       "  var JS_MIME_TYPE = 'application/javascript';\n",
       "  var HTML_MIME_TYPE = 'text/html';\n",
       "  var EXEC_MIME_TYPE = 'application/vnd.bokehjs_exec.v0+json';\n",
       "  var CLASS_NAME = 'output_bokeh rendered_html';\n",
       "\n",
       "  /**\n",
       "   * Render data to the DOM node\n",
       "   */\n",
       "  function render(props, node) {\n",
       "    var script = document.createElement(\"script\");\n",
       "    node.appendChild(script);\n",
       "  }\n",
       "\n",
       "  /**\n",
       "   * Handle when an output is cleared or removed\n",
       "   */\n",
       "  function handleClearOutput(event, handle) {\n",
       "    var cell = handle.cell;\n",
       "\n",
       "    var id = cell.output_area._bokeh_element_id;\n",
       "    var server_id = cell.output_area._bokeh_server_id;\n",
       "    // Clean up Bokeh references\n",
       "    if (id !== undefined) {\n",
       "      Bokeh.index[id].model.document.clear();\n",
       "      delete Bokeh.index[id];\n",
       "    }\n",
       "\n",
       "    if (server_id !== undefined) {\n",
       "      // Clean up Bokeh references\n",
       "      var cmd = \"from bokeh.io.state import curstate; print(curstate().uuid_to_server['\" + server_id + \"'].get_sessions()[0].document.roots[0]._id)\";\n",
       "      cell.notebook.kernel.execute(cmd, {\n",
       "        iopub: {\n",
       "          output: function(msg) {\n",
       "            var element_id = msg.content.text.trim();\n",
       "            Bokeh.index[element_id].model.document.clear();\n",
       "            delete Bokeh.index[element_id];\n",
       "          }\n",
       "        }\n",
       "      });\n",
       "      // Destroy server and session\n",
       "      var cmd = \"import bokeh.io.notebook as ion; ion.destroy_server('\" + server_id + \"')\";\n",
       "      cell.notebook.kernel.execute(cmd);\n",
       "    }\n",
       "  }\n",
       "\n",
       "  /**\n",
       "   * Handle when a new output is added\n",
       "   */\n",
       "  function handleAddOutput(event, handle) {\n",
       "    var output_area = handle.output_area;\n",
       "    var output = handle.output;\n",
       "\n",
       "    // limit handleAddOutput to display_data with EXEC_MIME_TYPE content only\n",
       "    if ((output.output_type != \"display_data\") || (!output.data.hasOwnProperty(EXEC_MIME_TYPE))) {\n",
       "      return\n",
       "    }\n",
       "\n",
       "    var toinsert = output_area.element.find(`.${CLASS_NAME.split(' ')[0]}`);\n",
       "\n",
       "    if (output.metadata[EXEC_MIME_TYPE][\"id\"] !== undefined) {\n",
       "      toinsert[0].firstChild.textContent = output.data[JS_MIME_TYPE];\n",
       "      // store reference to embed id on output_area\n",
       "      output_area._bokeh_element_id = output.metadata[EXEC_MIME_TYPE][\"id\"];\n",
       "    }\n",
       "    if (output.metadata[EXEC_MIME_TYPE][\"server_id\"] !== undefined) {\n",
       "      var bk_div = document.createElement(\"div\");\n",
       "      bk_div.innerHTML = output.data[HTML_MIME_TYPE];\n",
       "      var script_attrs = bk_div.children[0].attributes;\n",
       "      for (var i = 0; i < script_attrs.length; i++) {\n",
       "        toinsert[0].firstChild.setAttribute(script_attrs[i].name, script_attrs[i].value);\n",
       "      }\n",
       "      // store reference to server id on output_area\n",
       "      output_area._bokeh_server_id = output.metadata[EXEC_MIME_TYPE][\"server_id\"];\n",
       "    }\n",
       "  }\n",
       "\n",
       "  function register_renderer(events, OutputArea) {\n",
       "\n",
       "    function append_mime(data, metadata, element) {\n",
       "      // create a DOM node to render to\n",
       "      var toinsert = this.create_output_subarea(\n",
       "        metadata,\n",
       "        CLASS_NAME,\n",
       "        EXEC_MIME_TYPE\n",
       "      );\n",
       "      this.keyboard_manager.register_events(toinsert);\n",
       "      // Render to node\n",
       "      var props = {data: data, metadata: metadata[EXEC_MIME_TYPE]};\n",
       "      render(props, toinsert[0]);\n",
       "      element.append(toinsert);\n",
       "      return toinsert\n",
       "    }\n",
       "\n",
       "    /* Handle when an output is cleared or removed */\n",
       "    events.on('clear_output.CodeCell', handleClearOutput);\n",
       "    events.on('delete.Cell', handleClearOutput);\n",
       "\n",
       "    /* Handle when a new output is added */\n",
       "    events.on('output_added.OutputArea', handleAddOutput);\n",
       "\n",
       "    /**\n",
       "     * Register the mime type and append_mime function with output_area\n",
       "     */\n",
       "    OutputArea.prototype.register_mime_type(EXEC_MIME_TYPE, append_mime, {\n",
       "      /* Is output safe? */\n",
       "      safe: true,\n",
       "      /* Index of renderer in `output_area.display_order` */\n",
       "      index: 0\n",
       "    });\n",
       "  }\n",
       "\n",
       "  // register the mime type if in Jupyter Notebook environment and previously unregistered\n",
       "  if (root.Jupyter !== undefined) {\n",
       "    var events = require('base/js/events');\n",
       "    var OutputArea = require('notebook/js/outputarea').OutputArea;\n",
       "\n",
       "    if (OutputArea.prototype.mime_types().indexOf(EXEC_MIME_TYPE) == -1) {\n",
       "      register_renderer(events, OutputArea);\n",
       "    }\n",
       "  }\n",
       "\n",
       "  \n",
       "  if (typeof (root._bokeh_timeout) === \"undefined\" || force === true) {\n",
       "    root._bokeh_timeout = Date.now() + 5000;\n",
       "    root._bokeh_failed_load = false;\n",
       "  }\n",
       "\n",
       "  var NB_LOAD_WARNING = {'data': {'text/html':\n",
       "     \"<div style='background-color: #fdd'>\\n\"+\n",
       "     \"<p>\\n\"+\n",
       "     \"BokehJS does not appear to have successfully loaded. If loading BokehJS from CDN, this \\n\"+\n",
       "     \"may be due to a slow or bad network connection. Possible fixes:\\n\"+\n",
       "     \"</p>\\n\"+\n",
       "     \"<ul>\\n\"+\n",
       "     \"<li>re-rerun `output_notebook()` to attempt to load from CDN again, or</li>\\n\"+\n",
       "     \"<li>use INLINE resources instead, as so:</li>\\n\"+\n",
       "     \"</ul>\\n\"+\n",
       "     \"<code>\\n\"+\n",
       "     \"from bokeh.resources import INLINE\\n\"+\n",
       "     \"output_notebook(resources=INLINE)\\n\"+\n",
       "     \"</code>\\n\"+\n",
       "     \"</div>\"}};\n",
       "\n",
       "  function display_loaded() {\n",
       "    var el = document.getElementById(\"80a797e5-bd0f-4dda-9f21-5deab85dedc6\");\n",
       "    if (el != null) {\n",
       "      el.textContent = \"BokehJS is loading...\";\n",
       "    }\n",
       "    if (root.Bokeh !== undefined) {\n",
       "      if (el != null) {\n",
       "        el.textContent = \"BokehJS \" + root.Bokeh.version + \" successfully loaded.\";\n",
       "      }\n",
       "    } else if (Date.now() < root._bokeh_timeout) {\n",
       "      setTimeout(display_loaded, 100)\n",
       "    }\n",
       "  }\n",
       "\n",
       "\n",
       "  function run_callbacks() {\n",
       "    try {\n",
       "      root._bokeh_onload_callbacks.forEach(function(callback) { callback() });\n",
       "    }\n",
       "    finally {\n",
       "      delete root._bokeh_onload_callbacks\n",
       "    }\n",
       "    console.info(\"Bokeh: all callbacks have finished\");\n",
       "  }\n",
       "\n",
       "  function load_libs(js_urls, callback) {\n",
       "    root._bokeh_onload_callbacks.push(callback);\n",
       "    if (root._bokeh_is_loading > 0) {\n",
       "      console.log(\"Bokeh: BokehJS is being loaded, scheduling callback at\", now());\n",
       "      return null;\n",
       "    }\n",
       "    if (js_urls == null || js_urls.length === 0) {\n",
       "      run_callbacks();\n",
       "      return null;\n",
       "    }\n",
       "    console.log(\"Bokeh: BokehJS not loaded, scheduling load and callback at\", now());\n",
       "    root._bokeh_is_loading = js_urls.length;\n",
       "    for (var i = 0; i < js_urls.length; i++) {\n",
       "      var url = js_urls[i];\n",
       "      var s = document.createElement('script');\n",
       "      s.src = url;\n",
       "      s.async = false;\n",
       "      s.onreadystatechange = s.onload = function() {\n",
       "        root._bokeh_is_loading--;\n",
       "        if (root._bokeh_is_loading === 0) {\n",
       "          console.log(\"Bokeh: all BokehJS libraries loaded\");\n",
       "          run_callbacks()\n",
       "        }\n",
       "      };\n",
       "      s.onerror = function() {\n",
       "        console.warn(\"failed to load library \" + url);\n",
       "      };\n",
       "      console.log(\"Bokeh: injecting script tag for BokehJS library: \", url);\n",
       "      document.getElementsByTagName(\"head\")[0].appendChild(s);\n",
       "    }\n",
       "  };var element = document.getElementById(\"80a797e5-bd0f-4dda-9f21-5deab85dedc6\");\n",
       "  if (element == null) {\n",
       "    console.log(\"Bokeh: ERROR: autoload.js configured with elementid '80a797e5-bd0f-4dda-9f21-5deab85dedc6' but no matching script tag was found. \")\n",
       "    return false;\n",
       "  }\n",
       "\n",
       "  var js_urls = [\"https://cdn.pydata.org/bokeh/release/bokeh-0.12.10.min.js\", \"https://cdn.pydata.org/bokeh/release/bokeh-widgets-0.12.10.min.js\", \"https://cdn.pydata.org/bokeh/release/bokeh-tables-0.12.10.min.js\", \"https://cdn.pydata.org/bokeh/release/bokeh-gl-0.12.10.min.js\"];\n",
       "\n",
       "  var inline_js = [\n",
       "    function(Bokeh) {\n",
       "      Bokeh.set_log_level(\"info\");\n",
       "    },\n",
       "    \n",
       "    function(Bokeh) {\n",
       "      \n",
       "    },\n",
       "    function(Bokeh) {\n",
       "      console.log(\"Bokeh: injecting CSS: https://cdn.pydata.org/bokeh/release/bokeh-0.12.10.min.css\");\n",
       "      Bokeh.embed.inject_css(\"https://cdn.pydata.org/bokeh/release/bokeh-0.12.10.min.css\");\n",
       "      console.log(\"Bokeh: injecting CSS: https://cdn.pydata.org/bokeh/release/bokeh-widgets-0.12.10.min.css\");\n",
       "      Bokeh.embed.inject_css(\"https://cdn.pydata.org/bokeh/release/bokeh-widgets-0.12.10.min.css\");\n",
       "      console.log(\"Bokeh: injecting CSS: https://cdn.pydata.org/bokeh/release/bokeh-tables-0.12.10.min.css\");\n",
       "      Bokeh.embed.inject_css(\"https://cdn.pydata.org/bokeh/release/bokeh-tables-0.12.10.min.css\");\n",
       "    }\n",
       "  ];\n",
       "\n",
       "  function run_inline_js() {\n",
       "    \n",
       "    if ((root.Bokeh !== undefined) || (force === true)) {\n",
       "      for (var i = 0; i < inline_js.length; i++) {\n",
       "        inline_js[i].call(root, root.Bokeh);\n",
       "      }if (force === true) {\n",
       "        display_loaded();\n",
       "      }} else if (Date.now() < root._bokeh_timeout) {\n",
       "      setTimeout(run_inline_js, 100);\n",
       "    } else if (!root._bokeh_failed_load) {\n",
       "      console.log(\"Bokeh: BokehJS failed to load within specified timeout.\");\n",
       "      root._bokeh_failed_load = true;\n",
       "    } else if (force !== true) {\n",
       "      var cell = $(document.getElementById(\"80a797e5-bd0f-4dda-9f21-5deab85dedc6\")).parents('.cell').data().cell;\n",
       "      cell.output_area.append_execute_result(NB_LOAD_WARNING)\n",
       "    }\n",
       "\n",
       "  }\n",
       "\n",
       "  if (root._bokeh_is_loading === 0) {\n",
       "    console.log(\"Bokeh: BokehJS loaded, going straight to plotting\");\n",
       "    run_inline_js();\n",
       "  } else {\n",
       "    load_libs(js_urls, function() {\n",
       "      console.log(\"Bokeh: BokehJS plotting callback run at\", now());\n",
       "      run_inline_js();\n",
       "    });\n",
       "  }\n",
       "}(window));"
      ],
      "application/vnd.bokehjs_load.v0+json": "\n(function(root) {\n  function now() {\n    return new Date();\n  }\n\n  var force = true;\n\n  if (typeof (root._bokeh_onload_callbacks) === \"undefined\" || force === true) {\n    root._bokeh_onload_callbacks = [];\n    root._bokeh_is_loading = undefined;\n  }\n\n  \n\n  \n  if (typeof (root._bokeh_timeout) === \"undefined\" || force === true) {\n    root._bokeh_timeout = Date.now() + 5000;\n    root._bokeh_failed_load = false;\n  }\n\n  var NB_LOAD_WARNING = {'data': {'text/html':\n     \"<div style='background-color: #fdd'>\\n\"+\n     \"<p>\\n\"+\n     \"BokehJS does not appear to have successfully loaded. If loading BokehJS from CDN, this \\n\"+\n     \"may be due to a slow or bad network connection. Possible fixes:\\n\"+\n     \"</p>\\n\"+\n     \"<ul>\\n\"+\n     \"<li>re-rerun `output_notebook()` to attempt to load from CDN again, or</li>\\n\"+\n     \"<li>use INLINE resources instead, as so:</li>\\n\"+\n     \"</ul>\\n\"+\n     \"<code>\\n\"+\n     \"from bokeh.resources import INLINE\\n\"+\n     \"output_notebook(resources=INLINE)\\n\"+\n     \"</code>\\n\"+\n     \"</div>\"}};\n\n  function display_loaded() {\n    var el = document.getElementById(\"80a797e5-bd0f-4dda-9f21-5deab85dedc6\");\n    if (el != null) {\n      el.textContent = \"BokehJS is loading...\";\n    }\n    if (root.Bokeh !== undefined) {\n      if (el != null) {\n        el.textContent = \"BokehJS \" + root.Bokeh.version + \" successfully loaded.\";\n      }\n    } else if (Date.now() < root._bokeh_timeout) {\n      setTimeout(display_loaded, 100)\n    }\n  }\n\n\n  function run_callbacks() {\n    try {\n      root._bokeh_onload_callbacks.forEach(function(callback) { callback() });\n    }\n    finally {\n      delete root._bokeh_onload_callbacks\n    }\n    console.info(\"Bokeh: all callbacks have finished\");\n  }\n\n  function load_libs(js_urls, callback) {\n    root._bokeh_onload_callbacks.push(callback);\n    if (root._bokeh_is_loading > 0) {\n      console.log(\"Bokeh: BokehJS is being loaded, scheduling callback at\", now());\n      return null;\n    }\n    if (js_urls == null || js_urls.length === 0) {\n      run_callbacks();\n      return null;\n    }\n    console.log(\"Bokeh: BokehJS not loaded, scheduling load and callback at\", now());\n    root._bokeh_is_loading = js_urls.length;\n    for (var i = 0; i < js_urls.length; i++) {\n      var url = js_urls[i];\n      var s = document.createElement('script');\n      s.src = url;\n      s.async = false;\n      s.onreadystatechange = s.onload = function() {\n        root._bokeh_is_loading--;\n        if (root._bokeh_is_loading === 0) {\n          console.log(\"Bokeh: all BokehJS libraries loaded\");\n          run_callbacks()\n        }\n      };\n      s.onerror = function() {\n        console.warn(\"failed to load library \" + url);\n      };\n      console.log(\"Bokeh: injecting script tag for BokehJS library: \", url);\n      document.getElementsByTagName(\"head\")[0].appendChild(s);\n    }\n  };var element = document.getElementById(\"80a797e5-bd0f-4dda-9f21-5deab85dedc6\");\n  if (element == null) {\n    console.log(\"Bokeh: ERROR: autoload.js configured with elementid '80a797e5-bd0f-4dda-9f21-5deab85dedc6' but no matching script tag was found. \")\n    return false;\n  }\n\n  var js_urls = [\"https://cdn.pydata.org/bokeh/release/bokeh-0.12.10.min.js\", \"https://cdn.pydata.org/bokeh/release/bokeh-widgets-0.12.10.min.js\", \"https://cdn.pydata.org/bokeh/release/bokeh-tables-0.12.10.min.js\", \"https://cdn.pydata.org/bokeh/release/bokeh-gl-0.12.10.min.js\"];\n\n  var inline_js = [\n    function(Bokeh) {\n      Bokeh.set_log_level(\"info\");\n    },\n    \n    function(Bokeh) {\n      \n    },\n    function(Bokeh) {\n      console.log(\"Bokeh: injecting CSS: https://cdn.pydata.org/bokeh/release/bokeh-0.12.10.min.css\");\n      Bokeh.embed.inject_css(\"https://cdn.pydata.org/bokeh/release/bokeh-0.12.10.min.css\");\n      console.log(\"Bokeh: injecting CSS: https://cdn.pydata.org/bokeh/release/bokeh-widgets-0.12.10.min.css\");\n      Bokeh.embed.inject_css(\"https://cdn.pydata.org/bokeh/release/bokeh-widgets-0.12.10.min.css\");\n      console.log(\"Bokeh: injecting CSS: https://cdn.pydata.org/bokeh/release/bokeh-tables-0.12.10.min.css\");\n      Bokeh.embed.inject_css(\"https://cdn.pydata.org/bokeh/release/bokeh-tables-0.12.10.min.css\");\n    }\n  ];\n\n  function run_inline_js() {\n    \n    if ((root.Bokeh !== undefined) || (force === true)) {\n      for (var i = 0; i < inline_js.length; i++) {\n        inline_js[i].call(root, root.Bokeh);\n      }if (force === true) {\n        display_loaded();\n      }} else if (Date.now() < root._bokeh_timeout) {\n      setTimeout(run_inline_js, 100);\n    } else if (!root._bokeh_failed_load) {\n      console.log(\"Bokeh: BokehJS failed to load within specified timeout.\");\n      root._bokeh_failed_load = true;\n    } else if (force !== true) {\n      var cell = $(document.getElementById(\"80a797e5-bd0f-4dda-9f21-5deab85dedc6\")).parents('.cell').data().cell;\n      cell.output_area.append_execute_result(NB_LOAD_WARNING)\n    }\n\n  }\n\n  if (root._bokeh_is_loading === 0) {\n    console.log(\"Bokeh: BokehJS loaded, going straight to plotting\");\n    run_inline_js();\n  } else {\n    load_libs(js_urls, function() {\n      console.log(\"Bokeh: BokehJS plotting callback run at\", now());\n      run_inline_js();\n    });\n  }\n}(window));"
     },
     "metadata": {},
     "output_type": "display_data"
    }
   ],
   "source": [
    "# import library\n",
    "import pandas as pd\n",
    "import numpy as np\n",
    "from bokeh.io import output_notebook\n",
    "from bokeh.io import show, output_file\n",
    "from bokeh.models import HoverTool\n",
    "from bokeh.plotting import figure\n",
    "from bokeh.models import FactorRange\n",
    "from sklearn.ensemble import RandomForestRegressor,GradientBoostingRegressor\n",
    "from sklearn.model_selection import GridSearchCV\n",
    "from sklearn.metrics import mean_squared_error,r2_score\n",
    "import matplotlib.pyplot as plt\n",
    "from datetime import datetime,timedelta\n",
    "%matplotlib inline\n",
    "output_notebook()"
   ]
  },
  {
   "cell_type": "code",
   "execution_count": 2,
   "metadata": {
    "collapsed": true
   },
   "outputs": [],
   "source": [
    "# set variables"
   ]
  },
  {
   "cell_type": "code",
   "execution_count": 3,
   "metadata": {
    "collapsed": true
   },
   "outputs": [],
   "source": [
    "# define functions\n",
    "def zipcodeMapper(code):\n",
    "    code = str(int(code)).zfill(5)\n",
    "    myzip = zipcode.isequal(code)\n",
    "    try:\n",
    "        return myzip.state\n",
    "    except:\n",
    "        return 'error'"
   ]
  },
  {
   "cell_type": "code",
   "execution_count": 4,
   "metadata": {
    "collapsed": true
   },
   "outputs": [],
   "source": [
    "# calculate variables"
   ]
  },
  {
   "cell_type": "code",
   "execution_count": 5,
   "metadata": {},
   "outputs": [
    {
     "name": "stderr",
     "output_type": "stream",
     "text": [
      "/Users/jialuyan/anaconda3/lib/python3.6/site-packages/IPython/core/interactiveshell.py:2698: DtypeWarning: Columns (11) have mixed types. Specify dtype option on import or set low_memory=False.\n",
      "  interactivity=interactivity, compiler=compiler, result=result)\n"
     ]
    }
   ],
   "source": [
    "# readin data\n",
    "\n",
    "zip_df  = pd.read_csv('free-zipcode-database.csv')\n",
    "zip_df = zip_df[['Zipcode','State']].drop_duplicates()\n",
    "zip_df['Zip'] = zip_df['Zipcode'].apply(lambda x:str(int(x)).zfill(5))\n",
    "zip_df = zip_df.drop('Zipcode',axis=1)\n",
    "\n",
    "dat = pd.read_csv('re_data.csv',index_col=0)"
   ]
  },
  {
   "cell_type": "code",
   "execution_count": 6,
   "metadata": {},
   "outputs": [
    {
     "name": "stdout",
     "output_type": "stream",
     "text": [
      "967\n",
      "Maturity Date                object\n",
      "Loan Amount                 float64\n",
      "Zip                         float64\n",
      "Property Value               object\n",
      "Year Built                   object\n",
      "Net Operating Income        float64\n",
      "Effective Gross Income      float64\n",
      "Total Operating Expenses    float64\n",
      "Maintenance Expense         float64\n",
      "Parking Expense             float64\n",
      "Taxes Expense               float64\n",
      "Insurance Expense           float64\n",
      "Utilities Expense           float64\n",
      "Payroll Expense             float64\n",
      "dtype: object\n"
     ]
    }
   ],
   "source": [
    "# EDA334\n",
    "# check null values\n",
    "print(len(dat))\n",
    "dat.isnull().sum()\n",
    "dat = dat.dropna()\n",
    "print(dat.dtypes)"
   ]
  },
  {
   "cell_type": "code",
   "execution_count": 7,
   "metadata": {},
   "outputs": [
    {
     "ename": "ValueError",
     "evalue": "could not convert string to float: 'Error'",
     "output_type": "error",
     "traceback": [
      "\u001b[0;31m---------------------------------------------------------------------------\u001b[0m",
      "\u001b[0;31mValueError\u001b[0m                                Traceback (most recent call last)",
      "\u001b[0;32m<ipython-input-7-77b2f9e87d60>\u001b[0m in \u001b[0;36m<module>\u001b[0;34m()\u001b[0m\n\u001b[1;32m      1\u001b[0m \u001b[0mdat\u001b[0m\u001b[0;34m[\u001b[0m\u001b[0;34m'Zip'\u001b[0m\u001b[0;34m]\u001b[0m \u001b[0;34m=\u001b[0m \u001b[0mdat\u001b[0m\u001b[0;34m[\u001b[0m\u001b[0;34m'Zip'\u001b[0m\u001b[0;34m]\u001b[0m\u001b[0;34m.\u001b[0m\u001b[0mapply\u001b[0m\u001b[0;34m(\u001b[0m\u001b[0;32mlambda\u001b[0m \u001b[0mx\u001b[0m\u001b[0;34m:\u001b[0m\u001b[0mstr\u001b[0m\u001b[0;34m(\u001b[0m\u001b[0mint\u001b[0m\u001b[0;34m(\u001b[0m\u001b[0mx\u001b[0m\u001b[0;34m)\u001b[0m\u001b[0;34m)\u001b[0m\u001b[0;34m.\u001b[0m\u001b[0mzfill\u001b[0m\u001b[0;34m(\u001b[0m\u001b[0;36m5\u001b[0m\u001b[0;34m)\u001b[0m\u001b[0;34m)\u001b[0m\u001b[0;34m\u001b[0m\u001b[0m\n\u001b[1;32m      2\u001b[0m \u001b[0mdat\u001b[0m \u001b[0;34m=\u001b[0m \u001b[0mpd\u001b[0m\u001b[0;34m.\u001b[0m\u001b[0mmerge\u001b[0m\u001b[0;34m(\u001b[0m\u001b[0mdat\u001b[0m\u001b[0;34m,\u001b[0m\u001b[0mzip_df\u001b[0m\u001b[0;34m,\u001b[0m\u001b[0mon\u001b[0m \u001b[0;34m=\u001b[0m \u001b[0;34m'Zip'\u001b[0m\u001b[0;34m,\u001b[0m\u001b[0mhow\u001b[0m \u001b[0;34m=\u001b[0m \u001b[0;34m'left'\u001b[0m\u001b[0;34m)\u001b[0m\u001b[0;34m\u001b[0m\u001b[0m\n\u001b[0;32m----> 3\u001b[0;31m \u001b[0mdat\u001b[0m\u001b[0;34m[\u001b[0m\u001b[0;34m'Property Value'\u001b[0m\u001b[0;34m]\u001b[0m \u001b[0;34m=\u001b[0m \u001b[0mdat\u001b[0m\u001b[0;34m[\u001b[0m\u001b[0;34m'Property Value'\u001b[0m\u001b[0;34m]\u001b[0m\u001b[0;34m.\u001b[0m\u001b[0mapply\u001b[0m\u001b[0;34m(\u001b[0m\u001b[0mfloat\u001b[0m\u001b[0;34m)\u001b[0m\u001b[0;34m\u001b[0m\u001b[0m\n\u001b[0m\u001b[1;32m      4\u001b[0m \u001b[0;31m# what the fk\u001b[0m\u001b[0;34m\u001b[0m\u001b[0;34m\u001b[0m\u001b[0m\n",
      "\u001b[0;32m~/anaconda3/lib/python3.6/site-packages/pandas/core/series.py\u001b[0m in \u001b[0;36mapply\u001b[0;34m(self, func, convert_dtype, args, **kwds)\u001b[0m\n\u001b[1;32m   2353\u001b[0m             \u001b[0;32melse\u001b[0m\u001b[0;34m:\u001b[0m\u001b[0;34m\u001b[0m\u001b[0m\n\u001b[1;32m   2354\u001b[0m                 \u001b[0mvalues\u001b[0m \u001b[0;34m=\u001b[0m \u001b[0mself\u001b[0m\u001b[0;34m.\u001b[0m\u001b[0masobject\u001b[0m\u001b[0;34m\u001b[0m\u001b[0m\n\u001b[0;32m-> 2355\u001b[0;31m                 \u001b[0mmapped\u001b[0m \u001b[0;34m=\u001b[0m \u001b[0mlib\u001b[0m\u001b[0;34m.\u001b[0m\u001b[0mmap_infer\u001b[0m\u001b[0;34m(\u001b[0m\u001b[0mvalues\u001b[0m\u001b[0;34m,\u001b[0m \u001b[0mf\u001b[0m\u001b[0;34m,\u001b[0m \u001b[0mconvert\u001b[0m\u001b[0;34m=\u001b[0m\u001b[0mconvert_dtype\u001b[0m\u001b[0;34m)\u001b[0m\u001b[0;34m\u001b[0m\u001b[0m\n\u001b[0m\u001b[1;32m   2356\u001b[0m \u001b[0;34m\u001b[0m\u001b[0m\n\u001b[1;32m   2357\u001b[0m         \u001b[0;32mif\u001b[0m \u001b[0mlen\u001b[0m\u001b[0;34m(\u001b[0m\u001b[0mmapped\u001b[0m\u001b[0;34m)\u001b[0m \u001b[0;32mand\u001b[0m \u001b[0misinstance\u001b[0m\u001b[0;34m(\u001b[0m\u001b[0mmapped\u001b[0m\u001b[0;34m[\u001b[0m\u001b[0;36m0\u001b[0m\u001b[0;34m]\u001b[0m\u001b[0;34m,\u001b[0m \u001b[0mSeries\u001b[0m\u001b[0;34m)\u001b[0m\u001b[0;34m:\u001b[0m\u001b[0;34m\u001b[0m\u001b[0m\n",
      "\u001b[0;32mpandas/_libs/src/inference.pyx\u001b[0m in \u001b[0;36mpandas._libs.lib.map_infer\u001b[0;34m()\u001b[0m\n",
      "\u001b[0;31mValueError\u001b[0m: could not convert string to float: 'Error'"
     ]
    }
   ],
   "source": [
    "dat['Zip'] = dat['Zip'].apply(lambda x:str(int(x)).zfill(5))\n",
    "dat = pd.merge(dat,zip_df,on = 'Zip',how = 'left')\n",
    "dat['Property Value'] = dat['Property Value'].apply(float)\n",
    "# what the fk"
   ]
  },
  {
   "cell_type": "code",
   "execution_count": 8,
   "metadata": {
    "collapsed": true
   },
   "outputs": [],
   "source": [
    "dat = dat[dat['Property Value'] != 'Error']\n",
    "dat['Property Value'] = dat['Property Value'].apply(float)"
   ]
  },
  {
   "cell_type": "code",
   "execution_count": 9,
   "metadata": {},
   "outputs": [
    {
     "data": {
      "text/plain": [
       "Maturity Date                object\n",
       "Loan Amount                 float64\n",
       "Zip                          object\n",
       "Property Value              float64\n",
       "Year Built                   object\n",
       "Net Operating Income        float64\n",
       "Effective Gross Income      float64\n",
       "Total Operating Expenses    float64\n",
       "Maintenance Expense         float64\n",
       "Parking Expense             float64\n",
       "Taxes Expense               float64\n",
       "Insurance Expense           float64\n",
       "Utilities Expense           float64\n",
       "Payroll Expense             float64\n",
       "State                        object\n",
       "dtype: object"
      ]
     },
     "execution_count": 9,
     "metadata": {},
     "output_type": "execute_result"
    }
   ],
   "source": [
    "dat.dtypes"
   ]
  },
  {
   "cell_type": "code",
   "execution_count": 10,
   "metadata": {},
   "outputs": [
    {
     "name": "stdout",
     "output_type": "stream",
     "text": [
      "the state with highest average loan amount is OH\n"
     ]
    }
   ],
   "source": [
    "# 2 - a\n",
    "dat_2a = dat.groupby('State',as_index=False).agg({'Loan Amount':'mean'}).sort_values(by = 'Loan Amount',ascending = False)\n",
    "print('the state with highest average loan amount is {}'.format(dat_2a.iloc[0,0]))"
   ]
  },
  {
   "cell_type": "code",
   "execution_count": 11,
   "metadata": {},
   "outputs": [
    {
     "name": "stdout",
     "output_type": "stream",
     "text": [
      "the state with highest taxes as a % of property value is RI\n"
     ]
    }
   ],
   "source": [
    "# 2 - b\n",
    "dat_2b = dat.groupby('State',as_index=False).agg({'Taxes Expense':'sum','Property Value':'sum'})                                                                                                                                                                                                                                                                                                                                                                                                                                                                                                                                                                                                                                                                                                                                                                                                                                                                                                 \n",
    "\n",
    "dat_2b['ratio'] = dat_2b['Taxes Expense']/dat_2b['Property Value']\n",
    "dat_2b = dat_2b.sort_values(by = 'ratio',ascending = False)\n",
    "print('the state with highest taxes as a % of property value is {}'.format(dat_2b.iloc[0,0]))"
   ]
  },
  {
   "cell_type": "code",
   "execution_count": 12,
   "metadata": {},
   "outputs": [
    {
     "name": "stdout",
     "output_type": "stream",
     "text": [
      "strongest predictor might be Maintenance Expense, but this is just a rough guess, \n",
      "because in this way, we can only identify linear relations between features\n"
     ]
    }
   ],
   "source": [
    "# 2 - c\n",
    "dat_2c_origin = dat.copy()\n",
    "dat_2c_origin['ratio'] = dat_2c_origin['Maintenance Expense']/dat_2c_origin['Property Value']\n",
    "dat_2c = dat_2c_origin.corr()['ratio'].apply(abs).sort_values()# only focus on abs of corr\n",
    "print(\"\"\"strongest predictor might be {}, but this is just a rough guess, \n",
    "because in this way, we can only identify linear relations between features\"\"\".format(dat_2c.index[-2]))"
   ]
  },
  {
   "cell_type": "code",
   "execution_count": 13,
   "metadata": {},
   "outputs": [
    {
     "name": "stdout",
     "output_type": "stream",
     "text": [
      "\n",
      "median:0.6637972465882658\n",
      "max:1.6483758018592456\n",
      "min:0.0\n",
      "variance:0.06959396062440731\n",
      "\n"
     ]
    }
   ],
   "source": [
    "# 2 - d\n",
    "dat_2d_origin = dat.copy()\n",
    "dat_2d_origin = dat_2d_origin[dat_2d_origin['Property Value'] != 0]\n",
    "dat_2d_origin['ratio'] = dat_2d_origin['Loan Amount']/dat_2d_origin['Property Value']\n",
    "\n",
    "dat_2d = dat_2d_origin.ratio.describe()\n",
    "print(\"\"\"\n",
    "median:{}\n",
    "max:{}\n",
    "min:{}\n",
    "variance:{}\n",
    "\"\"\".format(dat_2d['50%'],dat_2d['max'],dat_2d['min'],dat_2d['std']**2))"
   ]
  },
  {
   "cell_type": "code",
   "execution_count": 14,
   "metadata": {
    "collapsed": true
   },
   "outputs": [],
   "source": [
    "# 2 - e\n",
    "dat_2e = dat.copy()\n",
    "expense_col = [x for x in dat_2e.columns if 'Expense' in x and 'Expenses' not in x]\n",
    "dat_2e['Total Expenses'] = dat_2e['Total Operating Expenses']\n",
    "for col in expense_col:\n",
    "    dat_2e['Total Expenses'] = dat_2e['Total Expenses']+dat_2e[col]\n",
    "dat_2e['Expenses per Unit'] = dat_2e['Total Expenses']/dat_2e['Property Value']"
   ]
  },
  {
   "cell_type": "code",
   "execution_count": 15,
   "metadata": {},
   "outputs": [
    {
     "name": "stdout",
     "output_type": "stream",
     "text": [
      "the correlation between Property Value and Expenses per Unit is 0.0642413669131821 which means there is no strong correlation\n"
     ]
    }
   ],
   "source": [
    "print('the correlation between Property Value and Expenses per Unit is {} which means there is no strong correlation'\\\n",
    "      .format(dat_2e[['Property Value','Expenses per Unit']].corr().iloc[0,1]))"
   ]
  },
  {
   "cell_type": "code",
   "execution_count": 16,
   "metadata": {},
   "outputs": [
    {
     "data": {
      "text/html": [
       "\n",
       "<div class=\"bk-root\">\n",
       "    <div class=\"bk-plotdiv\" id=\"90039dcf-a112-4da0-a886-43a7e5256cee\"></div>\n",
       "</div>"
      ]
     },
     "metadata": {},
     "output_type": "display_data"
    },
    {
     "data": {
      "application/javascript": [
       "(function(root) {\n",
       "  function embed_document(root) {\n",
       "    var docs_json = {\"f11c684d-db0f-49ea-af45-4b209598d40b\":{\"roots\":{\"references\":[{\"attributes\":{},\"id\":\"29a74a2e-baef-4d2e-8968-d950bc3b5c20\",\"type\":\"LinearScale\"},{\"attributes\":{},\"id\":\"528dad17-21ca-42f7-9a49-dd705c3ec1ff\",\"type\":\"PanTool\"},{\"attributes\":{\"below\":[{\"id\":\"13b19b15-90a6-48b2-9bef-7ff0035c3c73\",\"type\":\"CategoricalAxis\"}],\"left\":[{\"id\":\"7e07e36d-4152-419b-a2d0-cad3c5f42f34\",\"type\":\"LinearAxis\"}],\"plot_height\":250,\"plot_width\":750,\"renderers\":[{\"id\":\"13b19b15-90a6-48b2-9bef-7ff0035c3c73\",\"type\":\"CategoricalAxis\"},{\"id\":\"cc662463-088f-418b-b550-875bee51cf9d\",\"type\":\"Grid\"},{\"id\":\"7e07e36d-4152-419b-a2d0-cad3c5f42f34\",\"type\":\"LinearAxis\"},{\"id\":\"29b84c84-365a-4b5f-8b29-aa5ce7eee566\",\"type\":\"Grid\"},{\"id\":\"7ad432f9-bfa1-4ca3-8baf-ffd2d81edbbd\",\"type\":\"BoxAnnotation\"},{\"id\":\"2e412591-450b-43c9-99f9-4017d1439aab\",\"type\":\"GlyphRenderer\"}],\"title\":{\"id\":\"1fd12f98-baa3-4261-b96e-ea3cd439518c\",\"type\":\"Title\"},\"toolbar\":{\"id\":\"41bfbc33-993c-44ad-ae0e-fc2be59d4767\",\"type\":\"Toolbar\"},\"x_range\":{\"id\":\"f3b99d86-0d6e-4ab7-90e0-979c597a113a\",\"type\":\"FactorRange\"},\"x_scale\":{\"id\":\"fc81377e-efa5-4e5f-a2cf-660beef1a298\",\"type\":\"CategoricalScale\"},\"y_range\":{\"id\":\"b387e793-50b9-428f-8ed8-a1c0e456ddea\",\"type\":\"DataRange1d\"},\"y_scale\":{\"id\":\"29a74a2e-baef-4d2e-8968-d950bc3b5c20\",\"type\":\"LinearScale\"}},\"id\":\"7184e56f-071b-4bd5-9804-b24029d062db\",\"subtype\":\"Figure\",\"type\":\"Plot\"},{\"attributes\":{\"fill_color\":{\"value\":\"#1f77b4\"},\"line_color\":{\"value\":\"#1f77b4\"},\"top\":{\"field\":\"top\"},\"width\":{\"value\":0.7},\"x\":{\"field\":\"x\"}},\"id\":\"d3c6e770-cd38-4d1d-9077-134c651123d9\",\"type\":\"VBar\"},{\"attributes\":{},\"id\":\"83949f4a-64f6-4871-8119-b20aef1d02fe\",\"type\":\"WheelZoomTool\"},{\"attributes\":{\"plot\":null,\"text\":\"Expense Ratio Bar Chart\"},\"id\":\"1fd12f98-baa3-4261-b96e-ea3cd439518c\",\"type\":\"Title\"},{\"attributes\":{\"fill_alpha\":{\"value\":0.1},\"fill_color\":{\"value\":\"#1f77b4\"},\"line_alpha\":{\"value\":0.1},\"line_color\":{\"value\":\"#1f77b4\"},\"top\":{\"field\":\"top\"},\"width\":{\"value\":0.7},\"x\":{\"field\":\"x\"}},\"id\":\"fca13ba3-1819-4f0d-8274-f4dd0e4a5d19\",\"type\":\"VBar\"},{\"attributes\":{\"overlay\":{\"id\":\"7ad432f9-bfa1-4ca3-8baf-ffd2d81edbbd\",\"type\":\"BoxAnnotation\"}},\"id\":\"d3a0287e-11aa-4472-84b4-89722f5ff54e\",\"type\":\"BoxZoomTool\"},{\"attributes\":{\"callback\":null,\"factors\":[\"OK\",\"MS\",\"WI\",\"SC\",\"NM\",\"AL\",\"NV\",\"MI\",\"MO\",\"OH\",\"MN\",\"TX\",\"MD\",\"KY\",\"LA\",\"KS\",\"FL\",\"GA\",\"IN\",\"TN\",\"CT\",\"NC\",\"DC\",\"AR\",\"AZ\",\"RI\",\"VA\",\"OR\",\"IL\",\"NJ\",\"CA\",\"CO\",\"NH\",\"DE\",\"NE\",\"NY\",\"MA\",\"UT\",\"PA\",\"WA\"]},\"id\":\"f3b99d86-0d6e-4ab7-90e0-979c597a113a\",\"type\":\"FactorRange\"},{\"attributes\":{\"callback\":null,\"column_names\":[\"x\",\"top\"],\"data\":{\"top\":[0.6014378015581192,0.5542376968202142,0.5528323657167938,0.546119718176193,0.5450432557543766,0.5317617116249033,0.5296170620465581,0.5212599289556561,0.5178642336511871,0.5138861050027256,0.5065515971786719,0.5043084054409648,0.5012792172445816,0.49653342878138423,0.49029638695302247,0.47638710587052135,0.4667032055619765,0.46581372954586275,0.4628618083165404,0.458184412110911,0.457764600190896,0.4575156116426886,0.4514970394652855,0.4485213173916523,0.4436497117805156,0.4289278382299122,0.4255283077103521,0.4212533671982747,0.41229107788572306,0.4098119683240397,0.40902344026628845,0.4064479542939314,0.4050319222664856,0.38023394175655034,0.3740116072007246,0.366242964735565,0.3627848132286779,0.35354973672522033,0.34146783836260486,0.33274383256156886],\"x\":[\"OK\",\"MS\",\"WI\",\"SC\",\"NM\",\"AL\",\"NV\",\"MI\",\"MO\",\"OH\",\"MN\",\"TX\",\"MD\",\"KY\",\"LA\",\"KS\",\"FL\",\"GA\",\"IN\",\"TN\",\"CT\",\"NC\",\"DC\",\"AR\",\"AZ\",\"RI\",\"VA\",\"OR\",\"IL\",\"NJ\",\"CA\",\"CO\",\"NH\",\"DE\",\"NE\",\"NY\",\"MA\",\"UT\",\"PA\",\"WA\"]}},\"id\":\"c78a621d-05d4-4431-b6d0-770742c6fbda\",\"type\":\"ColumnDataSource\"},{\"attributes\":{\"active_drag\":\"auto\",\"active_inspect\":\"auto\",\"active_scroll\":\"auto\",\"active_tap\":\"auto\",\"tools\":[{\"id\":\"528dad17-21ca-42f7-9a49-dd705c3ec1ff\",\"type\":\"PanTool\"},{\"id\":\"83949f4a-64f6-4871-8119-b20aef1d02fe\",\"type\":\"WheelZoomTool\"},{\"id\":\"d3a0287e-11aa-4472-84b4-89722f5ff54e\",\"type\":\"BoxZoomTool\"},{\"id\":\"3f0d4639-6650-44c1-b3fa-b622540fd288\",\"type\":\"SaveTool\"},{\"id\":\"d8d96585-1e24-489b-b767-cc369ada4691\",\"type\":\"ResetTool\"},{\"id\":\"eb5f850d-39f6-4d05-81fe-138f3da276ed\",\"type\":\"HelpTool\"}]},\"id\":\"41bfbc33-993c-44ad-ae0e-fc2be59d4767\",\"type\":\"Toolbar\"},{\"attributes\":{},\"id\":\"3f0d4639-6650-44c1-b3fa-b622540fd288\",\"type\":\"SaveTool\"},{\"attributes\":{\"data_source\":{\"id\":\"c78a621d-05d4-4431-b6d0-770742c6fbda\",\"type\":\"ColumnDataSource\"},\"glyph\":{\"id\":\"d3c6e770-cd38-4d1d-9077-134c651123d9\",\"type\":\"VBar\"},\"hover_glyph\":null,\"muted_glyph\":null,\"nonselection_glyph\":{\"id\":\"fca13ba3-1819-4f0d-8274-f4dd0e4a5d19\",\"type\":\"VBar\"},\"selection_glyph\":null,\"view\":{\"id\":\"d63eb4eb-cc35-4b6e-baf6-f29f684541cf\",\"type\":\"CDSView\"}},\"id\":\"2e412591-450b-43c9-99f9-4017d1439aab\",\"type\":\"GlyphRenderer\"},{\"attributes\":{},\"id\":\"d8d96585-1e24-489b-b767-cc369ada4691\",\"type\":\"ResetTool\"},{\"attributes\":{},\"id\":\"eb5f850d-39f6-4d05-81fe-138f3da276ed\",\"type\":\"HelpTool\"},{\"attributes\":{},\"id\":\"fc81377e-efa5-4e5f-a2cf-660beef1a298\",\"type\":\"CategoricalScale\"},{\"attributes\":{\"axis_label\":\"Expense Ratio\",\"formatter\":{\"id\":\"b1e8ce58-f2f7-4d07-9bf8-6aba192b37a8\",\"type\":\"BasicTickFormatter\"},\"plot\":{\"id\":\"7184e56f-071b-4bd5-9804-b24029d062db\",\"subtype\":\"Figure\",\"type\":\"Plot\"},\"ticker\":{\"id\":\"7f2cac6f-9b8c-4714-a79d-4b0e02091c42\",\"type\":\"BasicTicker\"}},\"id\":\"7e07e36d-4152-419b-a2d0-cad3c5f42f34\",\"type\":\"LinearAxis\"},{\"attributes\":{\"axis_label\":\"State\",\"formatter\":{\"id\":\"ef94068f-cb6c-4df3-8b26-71b8b1f99da4\",\"type\":\"CategoricalTickFormatter\"},\"major_label_orientation\":1,\"plot\":{\"id\":\"7184e56f-071b-4bd5-9804-b24029d062db\",\"subtype\":\"Figure\",\"type\":\"Plot\"},\"ticker\":{\"id\":\"0310f54b-f627-4a67-bfef-8c7d062114ef\",\"type\":\"CategoricalTicker\"}},\"id\":\"13b19b15-90a6-48b2-9bef-7ff0035c3c73\",\"type\":\"CategoricalAxis\"},{\"attributes\":{\"source\":{\"id\":\"c78a621d-05d4-4431-b6d0-770742c6fbda\",\"type\":\"ColumnDataSource\"}},\"id\":\"d63eb4eb-cc35-4b6e-baf6-f29f684541cf\",\"type\":\"CDSView\"},{\"attributes\":{},\"id\":\"0310f54b-f627-4a67-bfef-8c7d062114ef\",\"type\":\"CategoricalTicker\"},{\"attributes\":{\"callback\":null},\"id\":\"b387e793-50b9-428f-8ed8-a1c0e456ddea\",\"type\":\"DataRange1d\"},{\"attributes\":{\"plot\":{\"id\":\"7184e56f-071b-4bd5-9804-b24029d062db\",\"subtype\":\"Figure\",\"type\":\"Plot\"},\"ticker\":{\"id\":\"0310f54b-f627-4a67-bfef-8c7d062114ef\",\"type\":\"CategoricalTicker\"}},\"id\":\"cc662463-088f-418b-b550-875bee51cf9d\",\"type\":\"Grid\"},{\"attributes\":{},\"id\":\"b1e8ce58-f2f7-4d07-9bf8-6aba192b37a8\",\"type\":\"BasicTickFormatter\"},{\"attributes\":{},\"id\":\"7f2cac6f-9b8c-4714-a79d-4b0e02091c42\",\"type\":\"BasicTicker\"},{\"attributes\":{\"dimension\":1,\"plot\":{\"id\":\"7184e56f-071b-4bd5-9804-b24029d062db\",\"subtype\":\"Figure\",\"type\":\"Plot\"},\"ticker\":{\"id\":\"7f2cac6f-9b8c-4714-a79d-4b0e02091c42\",\"type\":\"BasicTicker\"}},\"id\":\"29b84c84-365a-4b5f-8b29-aa5ce7eee566\",\"type\":\"Grid\"},{\"attributes\":{\"bottom_units\":\"screen\",\"fill_alpha\":{\"value\":0.5},\"fill_color\":{\"value\":\"lightgrey\"},\"left_units\":\"screen\",\"level\":\"overlay\",\"line_alpha\":{\"value\":1.0},\"line_color\":{\"value\":\"black\"},\"line_dash\":[4,4],\"line_width\":{\"value\":2},\"plot\":null,\"render_mode\":\"css\",\"right_units\":\"screen\",\"top_units\":\"screen\"},\"id\":\"7ad432f9-bfa1-4ca3-8baf-ffd2d81edbbd\",\"type\":\"BoxAnnotation\"},{\"attributes\":{},\"id\":\"ef94068f-cb6c-4df3-8b26-71b8b1f99da4\",\"type\":\"CategoricalTickFormatter\"}],\"root_ids\":[\"7184e56f-071b-4bd5-9804-b24029d062db\"]},\"title\":\"Bokeh Application\",\"version\":\"0.12.10\"}};\n",
       "    var render_items = [{\"docid\":\"f11c684d-db0f-49ea-af45-4b209598d40b\",\"elementid\":\"90039dcf-a112-4da0-a886-43a7e5256cee\",\"modelid\":\"7184e56f-071b-4bd5-9804-b24029d062db\"}];\n",
       "\n",
       "    root.Bokeh.embed.embed_items(docs_json, render_items);\n",
       "  }\n",
       "\n",
       "  if (root.Bokeh !== undefined) {\n",
       "    embed_document(root);\n",
       "  } else {\n",
       "    var attempts = 0;\n",
       "    var timer = setInterval(function(root) {\n",
       "      if (root.Bokeh !== undefined) {\n",
       "        embed_document(root);\n",
       "        clearInterval(timer);\n",
       "      }\n",
       "      attempts++;\n",
       "      if (attempts > 100) {\n",
       "        console.log(\"Bokeh: ERROR: Unable to embed document because BokehJS library is missing\")\n",
       "        clearInterval(timer);\n",
       "      }\n",
       "    }, 10, root)\n",
       "  }\n",
       "})(window);"
      ],
      "application/vnd.bokehjs_exec.v0+json": ""
     },
     "metadata": {
      "application/vnd.bokehjs_exec.v0+json": {
       "id": "7184e56f-071b-4bd5-9804-b24029d062db"
      }
     },
     "output_type": "display_data"
    }
   ],
   "source": [
    "# 3 - a\n",
    "dat_3_a = dat.groupby('State',as_index=False).agg({'Total Operating Expenses':'sum','Effective Gross Income':'sum'})\n",
    "dat_3_a['Expense ratio'] = dat_3_a['Total Operating Expenses']/dat_3_a['Effective Gross Income']\n",
    "\n",
    "dat_3_a = dat_3_a[['State','Expense ratio']].sort_values(by = 'Expense ratio',ascending = False)\n",
    "\n",
    "x3a = list(dat_3_a.State)\n",
    "y3a = list(dat_3_a['Expense ratio'])\n",
    "x = np.arange(len(x3a))\n",
    "p = figure(x_range = x3a,plot_height=250,plot_width = 750,title = 'Expense Ratio Bar Chart')\n",
    "p.vbar(x = x3a,top = y3a,width = 0.7)\n",
    "p.yaxis.axis_label = 'Expense Ratio'\n",
    "p.xaxis.axis_label = 'State'\n",
    "p.xaxis.major_label_orientation = 1\n",
    "show(p)"
   ]
  },
  {
   "cell_type": "code",
   "execution_count": 17,
   "metadata": {},
   "outputs": [
    {
     "data": {
      "text/html": [
       "\n",
       "<div class=\"bk-root\">\n",
       "    <div class=\"bk-plotdiv\" id=\"9145e8e5-5445-4114-9f71-0d13ff9c5553\"></div>\n",
       "</div>"
      ]
     },
     "metadata": {},
     "output_type": "display_data"
    },
    {
     "data": {
      "application/javascript": [
       "(function(root) {\n",
       "  function embed_document(root) {\n",
       "    var docs_json = {\"ab909663-260a-4ecc-abc1-ec7f5551bc96\":{\"roots\":{\"references\":[{\"attributes\":{\"dimension\":1,\"plot\":{\"id\":\"f30e2047-c2ac-4cc9-8019-8a0b31e7bdf7\",\"subtype\":\"Figure\",\"type\":\"Plot\"},\"ticker\":{\"id\":\"5a58c3ba-fdd2-4985-8344-a5ff4ca8748b\",\"type\":\"BasicTicker\"}},\"id\":\"54b6ae3d-98e3-469e-a7d6-4d62e3f90045\",\"type\":\"Grid\"},{\"attributes\":{},\"id\":\"513800ee-e122-46d8-bedb-e1d6a8e78c82\",\"type\":\"BasicTickFormatter\"},{\"attributes\":{\"axis_label\":\"Total Operating Expenses\",\"formatter\":{\"id\":\"513800ee-e122-46d8-bedb-e1d6a8e78c82\",\"type\":\"BasicTickFormatter\"},\"plot\":{\"id\":\"f30e2047-c2ac-4cc9-8019-8a0b31e7bdf7\",\"subtype\":\"Figure\",\"type\":\"Plot\"},\"ticker\":{\"id\":\"5a58c3ba-fdd2-4985-8344-a5ff4ca8748b\",\"type\":\"BasicTicker\"}},\"id\":\"aa10e91b-e5aa-407e-af35-670992cdd48c\",\"type\":\"LinearAxis\"},{\"attributes\":{\"callback\":null},\"id\":\"c590d588-0d5e-4cc7-9fd8-af41885cf234\",\"type\":\"DataRange1d\"},{\"attributes\":{\"bottom_units\":\"screen\",\"fill_alpha\":{\"value\":0.5},\"fill_color\":{\"value\":\"lightgrey\"},\"left_units\":\"screen\",\"level\":\"overlay\",\"line_alpha\":{\"value\":1.0},\"line_color\":{\"value\":\"black\"},\"line_dash\":[4,4],\"line_width\":{\"value\":2},\"plot\":null,\"render_mode\":\"css\",\"right_units\":\"screen\",\"top_units\":\"screen\"},\"id\":\"235aa607-69b4-44fc-9384-47c9b0fc3b2d\",\"type\":\"BoxAnnotation\"},{\"attributes\":{\"plot\":{\"id\":\"f30e2047-c2ac-4cc9-8019-8a0b31e7bdf7\",\"subtype\":\"Figure\",\"type\":\"Plot\"},\"ticker\":{\"id\":\"5762b255-8744-4248-b286-74aa402775c6\",\"type\":\"BasicTicker\"}},\"id\":\"48b8e6c9-216c-40f4-b4b2-ea2a0c4fe852\",\"type\":\"Grid\"},{\"attributes\":{\"data_source\":{\"id\":\"9a183016-adaf-4d77-9adb-05dc96fca0ae\",\"type\":\"ColumnDataSource\"},\"glyph\":{\"id\":\"4a8f75d7-b8ff-4fc5-97ec-16fd599d3661\",\"type\":\"Circle\"},\"hover_glyph\":null,\"muted_glyph\":null,\"nonselection_glyph\":{\"id\":\"ac63dbe9-f694-4bea-99b0-d5e9ec542aa4\",\"type\":\"Circle\"},\"selection_glyph\":null,\"view\":{\"id\":\"004f02eb-490b-4d97-b458-b873c9f66821\",\"type\":\"CDSView\"}},\"id\":\"d1e04bbb-c1f3-47c2-8679-301c3ec3fdc2\",\"type\":\"GlyphRenderer\"},{\"attributes\":{\"source\":{\"id\":\"9a183016-adaf-4d77-9adb-05dc96fca0ae\",\"type\":\"ColumnDataSource\"}},\"id\":\"004f02eb-490b-4d97-b458-b873c9f66821\",\"type\":\"CDSView\"},{\"attributes\":{},\"id\":\"b072445e-70c9-4462-ba15-4c7666db8794\",\"type\":\"LinearScale\"},{\"attributes\":{},\"id\":\"5762b255-8744-4248-b286-74aa402775c6\",\"type\":\"BasicTicker\"},{\"attributes\":{\"overlay\":{\"id\":\"235aa607-69b4-44fc-9384-47c9b0fc3b2d\",\"type\":\"BoxAnnotation\"}},\"id\":\"55c28291-8bf2-457a-815b-647e536845ee\",\"type\":\"BoxZoomTool\"},{\"attributes\":{\"axis_label\":\"Property Age\",\"formatter\":{\"id\":\"34228155-11b7-4159-8410-b2c75030ed5f\",\"type\":\"BasicTickFormatter\"},\"plot\":{\"id\":\"f30e2047-c2ac-4cc9-8019-8a0b31e7bdf7\",\"subtype\":\"Figure\",\"type\":\"Plot\"},\"ticker\":{\"id\":\"5762b255-8744-4248-b286-74aa402775c6\",\"type\":\"BasicTicker\"}},\"id\":\"a7353718-c3c2-44f3-89fb-4f9058cbc7b5\",\"type\":\"LinearAxis\"},{\"attributes\":{},\"id\":\"e321c18c-979a-4750-8161-fab799e7b40c\",\"type\":\"ResetTool\"},{\"attributes\":{},\"id\":\"f32b434b-4ca1-44c0-8bbf-2532cb1c87b8\",\"type\":\"WheelZoomTool\"},{\"attributes\":{\"active_drag\":\"auto\",\"active_inspect\":\"auto\",\"active_scroll\":\"auto\",\"active_tap\":\"auto\",\"tools\":[{\"id\":\"4a66a014-614e-4c43-b6d7-de9b24383ca5\",\"type\":\"PanTool\"},{\"id\":\"f32b434b-4ca1-44c0-8bbf-2532cb1c87b8\",\"type\":\"WheelZoomTool\"},{\"id\":\"55c28291-8bf2-457a-815b-647e536845ee\",\"type\":\"BoxZoomTool\"},{\"id\":\"22d6c618-8922-4132-817a-98389c99955b\",\"type\":\"SaveTool\"},{\"id\":\"e321c18c-979a-4750-8161-fab799e7b40c\",\"type\":\"ResetTool\"},{\"id\":\"091b7349-f765-4c22-a2ed-84f0e6857847\",\"type\":\"HelpTool\"}]},\"id\":\"1897669c-d8f9-4364-8721-2bb60fae2ee6\",\"type\":\"Toolbar\"},{\"attributes\":{\"fill_alpha\":{\"value\":0.1},\"fill_color\":{\"value\":\"#1f77b4\"},\"line_alpha\":{\"value\":0.1},\"line_color\":{\"value\":\"#1f77b4\"},\"x\":{\"field\":\"x\"},\"y\":{\"field\":\"y\"}},\"id\":\"ac63dbe9-f694-4bea-99b0-d5e9ec542aa4\",\"type\":\"Circle\"},{\"attributes\":{},\"id\":\"091b7349-f765-4c22-a2ed-84f0e6857847\",\"type\":\"HelpTool\"},{\"attributes\":{},\"id\":\"4a66a014-614e-4c43-b6d7-de9b24383ca5\",\"type\":\"PanTool\"},{\"attributes\":{\"below\":[{\"id\":\"a7353718-c3c2-44f3-89fb-4f9058cbc7b5\",\"type\":\"LinearAxis\"}],\"left\":[{\"id\":\"aa10e91b-e5aa-407e-af35-670992cdd48c\",\"type\":\"LinearAxis\"}],\"plot_height\":500,\"plot_width\":500,\"renderers\":[{\"id\":\"a7353718-c3c2-44f3-89fb-4f9058cbc7b5\",\"type\":\"LinearAxis\"},{\"id\":\"48b8e6c9-216c-40f4-b4b2-ea2a0c4fe852\",\"type\":\"Grid\"},{\"id\":\"aa10e91b-e5aa-407e-af35-670992cdd48c\",\"type\":\"LinearAxis\"},{\"id\":\"54b6ae3d-98e3-469e-a7d6-4d62e3f90045\",\"type\":\"Grid\"},{\"id\":\"235aa607-69b4-44fc-9384-47c9b0fc3b2d\",\"type\":\"BoxAnnotation\"},{\"id\":\"d1e04bbb-c1f3-47c2-8679-301c3ec3fdc2\",\"type\":\"GlyphRenderer\"}],\"title\":{\"id\":\"633e2f59-2e5f-49e6-a168-df3ddba29259\",\"type\":\"Title\"},\"toolbar\":{\"id\":\"1897669c-d8f9-4364-8721-2bb60fae2ee6\",\"type\":\"Toolbar\"},\"x_range\":{\"id\":\"c590d588-0d5e-4cc7-9fd8-af41885cf234\",\"type\":\"DataRange1d\"},\"x_scale\":{\"id\":\"9b9df098-e0e9-46ed-9c52-bfe24375a3dd\",\"type\":\"LinearScale\"},\"y_range\":{\"id\":\"2b905805-1633-4e4f-81f0-cae487f8951c\",\"type\":\"DataRange1d\"},\"y_scale\":{\"id\":\"b072445e-70c9-4462-ba15-4c7666db8794\",\"type\":\"LinearScale\"}},\"id\":\"f30e2047-c2ac-4cc9-8019-8a0b31e7bdf7\",\"subtype\":\"Figure\",\"type\":\"Plot\"},{\"attributes\":{\"plot\":null,\"text\":\"Relation Between Property Age and Expenses\"},\"id\":\"633e2f59-2e5f-49e6-a168-df3ddba29259\",\"type\":\"Title\"},{\"attributes\":{},\"id\":\"22d6c618-8922-4132-817a-98389c99955b\",\"type\":\"SaveTool\"},{\"attributes\":{\"callback\":null},\"id\":\"2b905805-1633-4e4f-81f0-cae487f8951c\",\"type\":\"DataRange1d\"},{\"attributes\":{},\"id\":\"9b9df098-e0e9-46ed-9c52-bfe24375a3dd\",\"type\":\"LinearScale\"},{\"attributes\":{},\"id\":\"5a58c3ba-fdd2-4985-8344-a5ff4ca8748b\",\"type\":\"BasicTicker\"},{\"attributes\":{\"callback\":null,\"column_names\":[\"x\",\"y\"],\"data\":{\"x\":[52,57,58,41,65,43,93,74,89,90,27,38,45,86,44,36,56,20,3,34,52,25,33,143,89,75,44,43,11,39,87,88,46,149,44,87,45,2,112,92,55,14,38,86,49,112,87,52,103,27,29,48,2,47,57,86,34,8,88,38,97,41,112,65,108,44,117,1,42,44,48,33,67,45,38,44,86,47,34,103,86,64,55,97,79,8,48,33,32,52,118,38,105,50,45,48,39,43,107,100,107,43,97,38,107,112,101,39,92,55,86,29,49,86,11,2,34,1,43,47,51,30,44,59,50,50,53,29,44,48,87,33,33,97,43,35,108,136,86,68,29,111,49,43,32,86,87,34,117,46,37,33,31,86,49,32,77,110,86,32,94,31,35,107,63,97,45,32,32,57,53,86,16,117,45,42,30,39,75,34,48,87,49,4,29,21,33,86,132,16,2,42,89,32,91,55,86,91,56,32,86,67,97,107,86,58,87,123,39,32,49,44,39,92,34,106,86,93,30,112,45,93,1,57,44,41,120,45,97,93,112,77,2,22,97,107,44,41,117,54,21,1,37,87,66,104,11,58,47,86,17,55,42,95,53,66,52,44,43,47,86,107,89,82,50,122,108,93,44,95,47,44,92,52,0,43,29,34,107,32,51,29,43,51,33,39,102,87,85,1,67,30,38,55,105,27,87,114,1,46,116,101,123,3,55,47,72,30,89,43,52,52,28,8,32,88,2,45,59,42,46,77,97,86,47,41,77,42,68,2,109,93,37,97,17,36,45,42,2,9,55,22,87,97,46,52,44,107,1,32,80,44,14,51,2,82,90,60,9,18,67,97,2,86,18,28,88,47,112,55,46,45,91,89,41,34,32,87,33,86,46,37,79,50,97,53,87,47,89,41,90,2,44,89,43,85,117,29,56,87,48,45,33,11,22,35,88,76,107,34,91,10,46,48,117,86,89,86,86,40,92,87,52,44,29,33,46,39,95,44,86,94,125,45,103,86,107,86,51,50,89,130,111,11,44,43,100,37,33,48,24,3,43,39,45,10,86,53,12,42,14,64,32,117,3,1,40,105,87,118,86,62,86,30,76,86,82,32,45,91,87,86,107,10,1,49,90,101,51,50,29,48,117,87,47,25,92,53,86,55,6,86,86,86,1,55,55,117,87,107,38,86,97,49,29,87,54,31,47,47,107,86,86,29,86,53,62,102,42,39,87,77,45,87,86,54,16,52,135,1,45,117,116,43,56,21,22,45,86,121,48,59,20,31,44,27,117,39,86,57,12,37,2,97,112,91,43,24,105,41,27,86,42,54,17,33,55,87,49,53,97,54,84,31,93,107,35,33,60,1,97,89,48,42,32,58,44,34,54,31,33,86,54,53,86,86,87,86,56,21,60,44,89,1,56,46,43,95,46,107,42,62,94,86,43,97,31,56,33,32,34,32,111,34,44,93,86,21,33,58,86,47,33,86,44,87,30,29,19,54,86,119,112,67,32,86,92,95,86,9,107,28,54,87,42,34,128,87,11,9,91,54,91,31,86,87,92,117,67,22,55,102,29,45,43,44,89,77,77,95,59,43,42,97,86,34,13,43,49,91,29,87,87,87,37,54,54,37,9,41,54,11,37,5,46,41,48,47,13,31,86,54,49,49,52,86,24,58,55,87,87,47,55,3,9,38,87,40,46,52,87,10,2,86,56,57,93,33,86,49,86,87,2,54,29,31,56,10,98,118,4,45,52,38,54,93,86,110,107,38,86,111,82,61,3,92,57,49,92,11,32,33,117,100,37,107,104,69,8,91,30,24,94,10,37,40,92,97,86,86,54,58,87,1,29,61,54,6,107,88,54,1,43,108,45,36,1,86,17,19,32,52,1,12,118,52,67,52,10,20,49,86,112,41,56,45,10,41,30,30,46,107,62,62,93,87,49,32,18,56,96,88,86,112,52,52,46,48,87,97,53,86,77,2,97,92,86,38,52,107,112,1,112,3,97,2,57,30,39,44,47,117,2,47,86,97,86,4,29,49,86,97,92,38,86,45,49,91,38,86,105,30,86,27,107,91,86,86,10,107,86,15,97,86],\"y\":{\"__ndarray__\":\"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\",\"dtype\":\"float64\",\"shape\":[914]}}},\"id\":\"9a183016-adaf-4d77-9adb-05dc96fca0ae\",\"type\":\"ColumnDataSource\"},{\"attributes\":{\"fill_color\":{\"value\":\"#1f77b4\"},\"line_color\":{\"value\":\"#1f77b4\"},\"x\":{\"field\":\"x\"},\"y\":{\"field\":\"y\"}},\"id\":\"4a8f75d7-b8ff-4fc5-97ec-16fd599d3661\",\"type\":\"Circle\"},{\"attributes\":{},\"id\":\"34228155-11b7-4159-8410-b2c75030ed5f\",\"type\":\"BasicTickFormatter\"}],\"root_ids\":[\"f30e2047-c2ac-4cc9-8019-8a0b31e7bdf7\"]},\"title\":\"Bokeh Application\",\"version\":\"0.12.10\"}};\n",
       "    var render_items = [{\"docid\":\"ab909663-260a-4ecc-abc1-ec7f5551bc96\",\"elementid\":\"9145e8e5-5445-4114-9f71-0d13ff9c5553\",\"modelid\":\"f30e2047-c2ac-4cc9-8019-8a0b31e7bdf7\"}];\n",
       "\n",
       "    root.Bokeh.embed.embed_items(docs_json, render_items);\n",
       "  }\n",
       "\n",
       "  if (root.Bokeh !== undefined) {\n",
       "    embed_document(root);\n",
       "  } else {\n",
       "    var attempts = 0;\n",
       "    var timer = setInterval(function(root) {\n",
       "      if (root.Bokeh !== undefined) {\n",
       "        embed_document(root);\n",
       "        clearInterval(timer);\n",
       "      }\n",
       "      attempts++;\n",
       "      if (attempts > 100) {\n",
       "        console.log(\"Bokeh: ERROR: Unable to embed document because BokehJS library is missing\")\n",
       "        clearInterval(timer);\n",
       "      }\n",
       "    }, 10, root)\n",
       "  }\n",
       "})(window);"
      ],
      "application/vnd.bokehjs_exec.v0+json": ""
     },
     "metadata": {
      "application/vnd.bokehjs_exec.v0+json": {
       "id": "f30e2047-c2ac-4cc9-8019-8a0b31e7bdf7"
      }
     },
     "output_type": "display_data"
    }
   ],
   "source": [
    "# 3 - b\n",
    "def errorSignal(x):\n",
    "    try:\n",
    "        tmp = int(x)\n",
    "        return 'healthy'\n",
    "    except:\n",
    "        return 'error'\n",
    "dat['built year error signal'] = dat['Year Built'].apply(errorSignal)\n",
    "dat = dat[dat['built year error signal'] == 'healthy']\n",
    "dat['Property Age'] = 2017 - dat['Year Built'].apply(int)\n",
    "\n",
    "x = dat['Property Age']\n",
    "y = dat['Total Operating Expenses']\n",
    "p = figure(plot_height = 500,plot_width = 500,title = 'Relation Between Property Age and Expenses')\n",
    "p.scatter(x,y)\n",
    "p.yaxis.axis_label = 'Total Operating Expenses'\n",
    "p.xaxis.axis_label = 'Property Age'\n",
    "show(p)"
   ]
  },
  {
   "cell_type": "code",
   "execution_count": 18,
   "metadata": {
    "collapsed": true
   },
   "outputs": [],
   "source": [
    "dat['Maturity Date'] = dat['Maturity Date'] \\\n",
    "    .apply(lambda x:datetime.strptime(x,'%Y-%m-%d'))\n",
    "dat['Fiscal Year'] = dat['Maturity Date'].dt.year\n",
    "dat['Fiscal Quarter'] = dat['Maturity Date'].dt.quarter"
   ]
  },
  {
   "cell_type": "code",
   "execution_count": 19,
   "metadata": {
    "collapsed": true
   },
   "outputs": [],
   "source": [
    "def appendFiscalQuarter(row):\n",
    "    return str(row[0])+'Q'+str(row[1])\n",
    "dat['Fiscal Year Quarter'] = dat[['Fiscal Year','Fiscal Quarter']].apply(appendFiscalQuarter,axis=1)"
   ]
  },
  {
   "cell_type": "code",
   "execution_count": 20,
   "metadata": {},
   "outputs": [
    {
     "data": {
      "text/html": [
       "\n",
       "<div class=\"bk-root\">\n",
       "    <div class=\"bk-plotdiv\" id=\"69afea2e-1d8e-4971-80ba-38d9ba97b921\"></div>\n",
       "</div>"
      ]
     },
     "metadata": {},
     "output_type": "display_data"
    },
    {
     "data": {
      "application/javascript": [
       "(function(root) {\n",
       "  function embed_document(root) {\n",
       "    var docs_json = {\"5b5641ac-041a-423e-8ca4-0e3707c04f76\":{\"roots\":{\"references\":[{\"attributes\":{},\"id\":\"c391b85f-5eac-4b4f-a3ad-8c7e71fff014\",\"type\":\"SaveTool\"},{\"attributes\":{},\"id\":\"fcb3e5aa-be3c-4ab3-957d-c3ae9ca68952\",\"type\":\"BasicTicker\"},{\"attributes\":{\"bottom_units\":\"screen\",\"fill_alpha\":{\"value\":0.5},\"fill_color\":{\"value\":\"lightgrey\"},\"left_units\":\"screen\",\"level\":\"overlay\",\"line_alpha\":{\"value\":1.0},\"line_color\":{\"value\":\"black\"},\"line_dash\":[4,4],\"line_width\":{\"value\":2},\"plot\":null,\"render_mode\":\"css\",\"right_units\":\"screen\",\"top_units\":\"screen\"},\"id\":\"483dd661-c0fd-413a-acce-a50799241f99\",\"type\":\"BoxAnnotation\"},{\"attributes\":{\"active_drag\":\"auto\",\"active_inspect\":\"auto\",\"active_scroll\":\"auto\",\"active_tap\":\"auto\",\"tools\":[{\"id\":\"8614920f-55fa-4b0f-be1f-54e7047b10df\",\"type\":\"PanTool\"},{\"id\":\"0cee97a2-a1f1-469d-acd4-357b8a4b6bca\",\"type\":\"WheelZoomTool\"},{\"id\":\"02d11302-d4be-4233-ab65-215c226589e7\",\"type\":\"BoxZoomTool\"},{\"id\":\"c391b85f-5eac-4b4f-a3ad-8c7e71fff014\",\"type\":\"SaveTool\"},{\"id\":\"7ad21916-52eb-4dd5-839a-cc7ed2289c4d\",\"type\":\"ResetTool\"},{\"id\":\"780cfdf8-1573-49a7-84c2-2485d17eef59\",\"type\":\"HelpTool\"}]},\"id\":\"be595bef-7401-4d4f-99cd-a11acc57079d\",\"type\":\"Toolbar\"},{\"attributes\":{\"formatter\":{\"id\":\"c28c9ee5-d2ba-418c-adc3-ef5bd3aa5646\",\"type\":\"CategoricalTickFormatter\"},\"major_label_orientation\":1,\"plot\":{\"id\":\"9d0230f6-b8aa-41e7-92ab-6147ef7a3866\",\"subtype\":\"Figure\",\"type\":\"Plot\"},\"ticker\":{\"id\":\"512fbc9b-8d8f-461d-bfd8-10cb12cf043e\",\"type\":\"CategoricalTicker\"}},\"id\":\"01e2517e-d774-428c-96a0-d7df364066fb\",\"type\":\"CategoricalAxis\"},{\"attributes\":{\"line_color\":{\"value\":\"#1f77b4\"},\"x\":{\"field\":\"x\"},\"y\":{\"field\":\"y\"}},\"id\":\"8d230a57-8520-4eee-a0f7-f152890db01f\",\"type\":\"Line\"},{\"attributes\":{\"source\":{\"id\":\"44ceb2bb-5dca-44cd-a718-4dbe6437af8d\",\"type\":\"ColumnDataSource\"}},\"id\":\"6520615b-b3b8-46ac-b9cc-d07a747f5b88\",\"type\":\"CDSView\"},{\"attributes\":{},\"id\":\"4f96575f-6055-49cd-ba90-6680b9fc1ff7\",\"type\":\"BasicTickFormatter\"},{\"attributes\":{},\"id\":\"0cee97a2-a1f1-469d-acd4-357b8a4b6bca\",\"type\":\"WheelZoomTool\"},{\"attributes\":{},\"id\":\"8614920f-55fa-4b0f-be1f-54e7047b10df\",\"type\":\"PanTool\"},{\"attributes\":{\"formatter\":{\"id\":\"4f96575f-6055-49cd-ba90-6680b9fc1ff7\",\"type\":\"BasicTickFormatter\"},\"plot\":{\"id\":\"9d0230f6-b8aa-41e7-92ab-6147ef7a3866\",\"subtype\":\"Figure\",\"type\":\"Plot\"},\"ticker\":{\"id\":\"fcb3e5aa-be3c-4ab3-957d-c3ae9ca68952\",\"type\":\"BasicTicker\"}},\"id\":\"941e08f1-4207-4ac0-ab66-e8a383d939bd\",\"type\":\"LinearAxis\"},{\"attributes\":{},\"id\":\"c28c9ee5-d2ba-418c-adc3-ef5bd3aa5646\",\"type\":\"CategoricalTickFormatter\"},{\"attributes\":{},\"id\":\"512fbc9b-8d8f-461d-bfd8-10cb12cf043e\",\"type\":\"CategoricalTicker\"},{\"attributes\":{},\"id\":\"08d3127c-1c1b-41e8-a87c-e40b351e5520\",\"type\":\"LinearScale\"},{\"attributes\":{\"below\":[{\"id\":\"01e2517e-d774-428c-96a0-d7df364066fb\",\"type\":\"CategoricalAxis\"}],\"left\":[{\"id\":\"941e08f1-4207-4ac0-ab66-e8a383d939bd\",\"type\":\"LinearAxis\"}],\"plot_height\":250,\"plot_width\":1000,\"renderers\":[{\"id\":\"01e2517e-d774-428c-96a0-d7df364066fb\",\"type\":\"CategoricalAxis\"},{\"id\":\"8f5498af-6806-484e-859d-beb16feb64c2\",\"type\":\"Grid\"},{\"id\":\"941e08f1-4207-4ac0-ab66-e8a383d939bd\",\"type\":\"LinearAxis\"},{\"id\":\"5fe9cf56-2b05-4729-a31c-2b7e40bf8bc2\",\"type\":\"Grid\"},{\"id\":\"483dd661-c0fd-413a-acce-a50799241f99\",\"type\":\"BoxAnnotation\"},{\"id\":\"78791532-8379-4559-a553-d6515e4b950d\",\"type\":\"GlyphRenderer\"}],\"title\":{\"id\":\"1a3f6e81-6889-4925-9ce7-00ef72a8c945\",\"type\":\"Title\"},\"toolbar\":{\"id\":\"be595bef-7401-4d4f-99cd-a11acc57079d\",\"type\":\"Toolbar\"},\"x_range\":{\"id\":\"51ad0271-5d14-4dc0-bbb2-573a20458b73\",\"type\":\"FactorRange\"},\"x_scale\":{\"id\":\"8fa916d3-077b-4411-b12e-255cf32b29d7\",\"type\":\"CategoricalScale\"},\"y_range\":{\"id\":\"690c5f19-acee-431b-9660-d0fd7e44aa41\",\"type\":\"DataRange1d\"},\"y_scale\":{\"id\":\"08d3127c-1c1b-41e8-a87c-e40b351e5520\",\"type\":\"LinearScale\"}},\"id\":\"9d0230f6-b8aa-41e7-92ab-6147ef7a3866\",\"subtype\":\"Figure\",\"type\":\"Plot\"},{\"attributes\":{},\"id\":\"7ad21916-52eb-4dd5-839a-cc7ed2289c4d\",\"type\":\"ResetTool\"},{\"attributes\":{\"line_alpha\":{\"value\":0.1},\"line_color\":{\"value\":\"#1f77b4\"},\"x\":{\"field\":\"x\"},\"y\":{\"field\":\"y\"}},\"id\":\"26cddc5e-bcb9-44b2-9161-6041f912a263\",\"type\":\"Line\"},{\"attributes\":{\"plot\":null,\"text\":\"Stacked Loan Amount by Fiscal Quarter\"},\"id\":\"1a3f6e81-6889-4925-9ce7-00ef72a8c945\",\"type\":\"Title\"},{\"attributes\":{},\"id\":\"8fa916d3-077b-4411-b12e-255cf32b29d7\",\"type\":\"CategoricalScale\"},{\"attributes\":{\"overlay\":{\"id\":\"483dd661-c0fd-413a-acce-a50799241f99\",\"type\":\"BoxAnnotation\"}},\"id\":\"02d11302-d4be-4233-ab65-215c226589e7\",\"type\":\"BoxZoomTool\"},{\"attributes\":{\"plot\":{\"id\":\"9d0230f6-b8aa-41e7-92ab-6147ef7a3866\",\"subtype\":\"Figure\",\"type\":\"Plot\"},\"ticker\":{\"id\":\"512fbc9b-8d8f-461d-bfd8-10cb12cf043e\",\"type\":\"CategoricalTicker\"}},\"id\":\"8f5498af-6806-484e-859d-beb16feb64c2\",\"type\":\"Grid\"},{\"attributes\":{},\"id\":\"780cfdf8-1573-49a7-84c2-2485d17eef59\",\"type\":\"HelpTool\"},{\"attributes\":{\"callback\":null},\"id\":\"690c5f19-acee-431b-9660-d0fd7e44aa41\",\"type\":\"DataRange1d\"},{\"attributes\":{\"dimension\":1,\"plot\":{\"id\":\"9d0230f6-b8aa-41e7-92ab-6147ef7a3866\",\"subtype\":\"Figure\",\"type\":\"Plot\"},\"ticker\":{\"id\":\"fcb3e5aa-be3c-4ab3-957d-c3ae9ca68952\",\"type\":\"BasicTicker\"}},\"id\":\"5fe9cf56-2b05-4729-a31c-2b7e40bf8bc2\",\"type\":\"Grid\"},{\"attributes\":{\"callback\":null,\"factors\":[\"2016Q3\",\"2017Q1\",\"2018Q1\",\"2019Q1\",\"2020Q4\",\"2021Q1\",\"2021Q2\",\"2021Q3\",\"2021Q4\",\"2022Q1\",\"2022Q2\",\"2022Q3\",\"2022Q4\",\"2023Q1\",\"2023Q2\",\"2023Q3\",\"2023Q4\",\"2024Q1\",\"2024Q2\",\"2024Q3\",\"2025Q1\",\"2025Q2\",\"2025Q3\",\"2026Q1\",\"2026Q2\",\"2026Q3\",\"2026Q4\",\"2027Q1\",\"2027Q2\",\"2027Q3\",\"2027Q4\",\"2028Q1\",\"2028Q2\",\"2028Q3\",\"2028Q4\",\"2029Q1\",\"2029Q2\",\"2029Q3\",\"2030Q3\",\"2031Q2\",\"2031Q3\",\"2031Q4\",\"2032Q1\",\"2032Q2\",\"2034Q3\",\"2035Q3\",\"2036Q1\",\"2036Q2\",\"2036Q3\",\"2036Q4\",\"2037Q1\",\"2037Q2\",\"2037Q3\",\"2037Q4\",\"2042Q1\",\"2046Q1\",\"2046Q3\",\"2046Q4\",\"2047Q1\"]},\"id\":\"51ad0271-5d14-4dc0-bbb2-573a20458b73\",\"type\":\"FactorRange\"},{\"attributes\":{\"callback\":null,\"column_names\":[\"x\",\"y\"],\"data\":{\"x\":[\"2016Q3\",\"2017Q1\",\"2018Q1\",\"2019Q1\",\"2020Q4\",\"2021Q1\",\"2021Q2\",\"2021Q3\",\"2021Q4\",\"2022Q1\",\"2022Q2\",\"2022Q3\",\"2022Q4\",\"2023Q1\",\"2023Q2\",\"2023Q3\",\"2023Q4\",\"2024Q1\",\"2024Q2\",\"2024Q3\",\"2025Q1\",\"2025Q2\",\"2025Q3\",\"2026Q1\",\"2026Q2\",\"2026Q3\",\"2026Q4\",\"2027Q1\",\"2027Q2\",\"2027Q3\",\"2027Q4\",\"2028Q1\",\"2028Q2\",\"2028Q3\",\"2028Q4\",\"2029Q1\",\"2029Q2\",\"2029Q3\",\"2030Q3\",\"2031Q2\",\"2031Q3\",\"2031Q4\",\"2032Q1\",\"2032Q2\",\"2034Q3\",\"2035Q3\",\"2036Q1\",\"2036Q2\",\"2036Q3\",\"2036Q4\",\"2037Q1\",\"2037Q2\",\"2037Q3\",\"2037Q4\",\"2042Q1\",\"2046Q1\",\"2046Q3\",\"2046Q4\",\"2047Q1\"],\"y\":{\"__ndarray__\":\"AAAAAAAAAAAAAAAAAAAAAAAAAAAAAAAAH4Xr8X30QEEfhevRiEsuQTQzM4tZNmxBHoXroXiqUEGuR+HyzmpwQSlcjxL9BV1Bw/UopD3jaUEzMzNbrZFzQexRuD5gjEdBw/UonE/1ZEHiehSGaUt9QTQzMxWG7ZJB4XoUx5kyq0E/CtcsEzWhQYXrUaDDXqdBr0fhUXVzmEE+CtfLjjBmQR+F63EK7V1BcD0K9xSKUUHiehQexFlvQT0K19a/sKdBheuRxR4nskFnZmask9y8QXcUrqrydr1BXI/CSorGvkGQwvXcZI62QQAAAAAAAAAAZmZmJp2SQUEK16PYoJF6QUjheojE5oBBSOF6eVvIoUEK16MwvPKJQc3MzB7ufYtBZmbmH6NVoUEAAAAAAAAAANejcP35+jtBcT0K1+LXakEK16PwdpotQc3MzKAScI9B////R5QObUEpXI+GMf11QT0K1yO7sjVBFK5HsfExYEEVrkenuDWLQcL1qMayHKNBMzMzb3FpnkGF61Fv1SGbQUnhek1D5aFB/f9/wCMQpkEAAAAAAAAAAPYoXI+3KShBUrgeBaBBL0EfhesRQoNDQUjhevROPUBBwvUorLmAa0EAAABwC2ZaQQ==\",\"dtype\":\"float64\",\"shape\":[59]}}},\"id\":\"44ceb2bb-5dca-44cd-a718-4dbe6437af8d\",\"type\":\"ColumnDataSource\"},{\"attributes\":{\"data_source\":{\"id\":\"44ceb2bb-5dca-44cd-a718-4dbe6437af8d\",\"type\":\"ColumnDataSource\"},\"glyph\":{\"id\":\"8d230a57-8520-4eee-a0f7-f152890db01f\",\"type\":\"Line\"},\"hover_glyph\":null,\"muted_glyph\":null,\"nonselection_glyph\":{\"id\":\"26cddc5e-bcb9-44b2-9161-6041f912a263\",\"type\":\"Line\"},\"selection_glyph\":null,\"view\":{\"id\":\"6520615b-b3b8-46ac-b9cc-d07a747f5b88\",\"type\":\"CDSView\"}},\"id\":\"78791532-8379-4559-a553-d6515e4b950d\",\"type\":\"GlyphRenderer\"}],\"root_ids\":[\"9d0230f6-b8aa-41e7-92ab-6147ef7a3866\"]},\"title\":\"Bokeh Application\",\"version\":\"0.12.10\"}};\n",
       "    var render_items = [{\"docid\":\"5b5641ac-041a-423e-8ca4-0e3707c04f76\",\"elementid\":\"69afea2e-1d8e-4971-80ba-38d9ba97b921\",\"modelid\":\"9d0230f6-b8aa-41e7-92ab-6147ef7a3866\"}];\n",
       "\n",
       "    root.Bokeh.embed.embed_items(docs_json, render_items);\n",
       "  }\n",
       "\n",
       "  if (root.Bokeh !== undefined) {\n",
       "    embed_document(root);\n",
       "  } else {\n",
       "    var attempts = 0;\n",
       "    var timer = setInterval(function(root) {\n",
       "      if (root.Bokeh !== undefined) {\n",
       "        embed_document(root);\n",
       "        clearInterval(timer);\n",
       "      }\n",
       "      attempts++;\n",
       "      if (attempts > 100) {\n",
       "        console.log(\"Bokeh: ERROR: Unable to embed document because BokehJS library is missing\")\n",
       "        clearInterval(timer);\n",
       "      }\n",
       "    }, 10, root)\n",
       "  }\n",
       "})(window);"
      ],
      "application/vnd.bokehjs_exec.v0+json": ""
     },
     "metadata": {
      "application/vnd.bokehjs_exec.v0+json": {
       "id": "9d0230f6-b8aa-41e7-92ab-6147ef7a3866"
      }
     },
     "output_type": "display_data"
    }
   ],
   "source": [
    "dat_3_c = dat.groupby('Fiscal Year Quarter',as_index=False).agg({'Loan Amount':'sum'}).sort_values(by = 'Fiscal Year Quarter' )\n",
    "x3c = dat_3_c['Fiscal Year Quarter']\n",
    "y3c = dat_3_c['Loan Amount']\n",
    "p = figure(x_range = FactorRange(*x3c),plot_height =250,plot_width = 1000,title = 'Stacked Loan Amount by Fiscal Quarter')\n",
    "p.line(x = x3c,y = y3c)\n",
    "p.xaxis.major_label_orientation = 1\n",
    "show(p)"
   ]
  },
  {
   "cell_type": "code",
   "execution_count": 21,
   "metadata": {},
   "outputs": [
    {
     "name": "stdout",
     "output_type": "stream",
     "text": [
      "\n",
      "In Sample:\n",
      "R2:0.8296420664449593\n",
      "MSE:0.0121443482633895\n",
      "Out of Sample:\n",
      "R2:0.25057015079609446\n",
      "MSE:0.048959278038706415\n",
      "\n"
     ]
    }
   ],
   "source": [
    "# 4\n",
    "dat_4_origin = dat.copy()\n",
    "dat_4_origin = dat_4_origin[dat_4_origin['Property Value'] != 0]\n",
    "dat_4_origin['ratio'] = dat_4_origin['Loan Amount']/dat_4_origin['Property Value']\n",
    "dat_4_origin['Property Value Inverse'] = 1/dat_4_origin['Property Value']\n",
    "dat_4_origin['Days to Maturity'] = (dat_4_origin['Maturity Date'].dt.date - datetime.today().date()).dt.days\n",
    "dat_4 = dat_4_origin.drop(['Maturity Date',\n",
    "                           'Loan Amount',\n",
    "                           'Year Built',\n",
    "                           'Zip','built year error signal','Fiscal Year', 'Fiscal Quarter', 'Fiscal Year Quarter'],axis = 1)\n",
    "\n",
    "\n",
    "dat_4_dummies = pd.get_dummies(dat_4)\n",
    "\n",
    "signal = np.random.uniform(size = len(dat_4_dummies))\n",
    "dat_4_train = dat_4_dummies[signal<=0.7]\n",
    "dat_4_test = dat_4_dummies[signal>0.7]\n",
    "\n",
    "x_train = dat_4_train.drop('ratio',axis = 1)\n",
    "x_test = dat_4_test.drop('ratio',axis = 1)\n",
    "y_train = dat_4_train.ratio\n",
    "y_test = dat_4_test.ratio\n",
    "\n",
    "rf = RandomForestRegressor(n_estimators=500,n_jobs= 4)\n",
    "\n",
    "param = {'max_depth':list(range(5,16))+[None]}\n",
    "model = GridSearchCV(rf,param)\n",
    "model.fit(x_train,y_train)\n",
    "prediction_train = model.predict(x_train)\n",
    "prediction_test = model.predict(x_test)\n",
    "print(\"\"\"\n",
    "In Sample:\n",
    "R2:{}\n",
    "MSE:{}\n",
    "Out of Sample:\n",
    "R2:{}\n",
    "MSE:{}\n",
    "\"\"\".format(r2_score(y_train,prediction_train),\n",
    "           mean_squared_error(y_train,prediction_train),\n",
    "           r2_score(y_test,prediction_test),\n",
    "           mean_squared_error(y_test,prediction_test)))"
   ]
  },
  {
   "cell_type": "code",
   "execution_count": null,
   "metadata": {
    "collapsed": true
   },
   "outputs": [],
   "source": []
  },
  {
   "cell_type": "code",
   "execution_count": null,
   "metadata": {
    "collapsed": true
   },
   "outputs": [],
   "source": []
  }
 ],
 "metadata": {
  "kernelspec": {
   "display_name": "Python 3",
   "language": "python",
   "name": "python3"
  },
  "language_info": {
   "codemirror_mode": {
    "name": "ipython",
    "version": 3
   },
   "file_extension": ".py",
   "mimetype": "text/x-python",
   "name": "python",
   "nbconvert_exporter": "python",
   "pygments_lexer": "ipython3",
   "version": "3.6.3"
  }
 },
 "nbformat": 4,
 "nbformat_minor": 2
}
